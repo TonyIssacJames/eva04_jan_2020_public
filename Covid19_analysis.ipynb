{
  "nbformat": 4,
  "nbformat_minor": 0,
  "metadata": {
    "colab": {
      "name": "Covid19-analysis",
      "provenance": [],
      "collapsed_sections": [],
      "include_colab_link": true
    },
    "kernelspec": {
      "name": "python3",
      "display_name": "Python 3"
    }
  },
  "cells": [
    {
      "cell_type": "markdown",
      "metadata": {
        "id": "view-in-github",
        "colab_type": "text"
      },
      "source": [
        "<a href=\"https://colab.research.google.com/github/TonyIssacJames/eva04_jan_2020_public/blob/master/Covid19_analysis.ipynb\" target=\"_parent\"><img src=\"https://colab.research.google.com/assets/colab-badge.svg\" alt=\"Open In Colab\"/></a>"
      ]
    },
    {
      "cell_type": "markdown",
      "metadata": {
        "id": "50h-0jAuMd9A",
        "colab_type": "text"
      },
      "source": [
        "Analytic results from iBOTNOI www.botnoigroup.com"
      ]
    },
    {
      "cell_type": "markdown",
      "metadata": {
        "id": "qUSgSJ_DJDcw",
        "colab_type": "text"
      },
      "source": [
        "# Set of experiments aiming to guide some data analytics for Covid-19 cases\n",
        "- Hopefully if the dataset is richer, we could extract more meaningful insights.\n",
        "- Insights from the data shows that \n",
        "1. the fatality rate correlates with age (less than 2% for age under 40, higher than 20% for age over 70)\n",
        "2. the fatality rate for male is higher (7% for male, 3% for female)\n",
        "3. the fatality rate for different coutries are very different and require further investigation"
      ]
    },
    {
      "cell_type": "markdown",
      "metadata": {
        "id": "i4VWwAAhwH_x",
        "colab_type": "text"
      },
      "source": [
        "# ตัวอย่างการวิเคราะห์ข้อมูลของ Covid-19\n",
        "หากมีข้อมูลที่มากกว่านี้จะสามารถหา insight เพิ่มเติมได้ ในการทำการวิเคราะห์ข้อมูล มักจะเริ่มจากคำถามต่าง ๆ เช่น ปัจจัยนี้ส่งผลหรือไม่ จากนั้นจะเอาข้อมูลมาใช้ในการสนับสนุนข้อสมมติฐาน\n",
        "สิ่งที่ได้จากการวิเคราะห์เป็นดังต่อไปนี้\n",
        "1. อัตราการตายขึ้นอยู่กับอายุ อายุมากมีความเสี่ยงสูงมากกว่า (ต่ำกว่า 2% หากอายุไม่ถึง 40 ปี และสูงกว่า 20% หากอายุเกิน 70 ปี)\n",
        "2. อัตราการตายของเพศชายสูงกว่าเพศหญิง (7% สำหรับชาย - 3% สำหรับหญิง)\n",
        "3. อัตราการตายของแต่ละประเทศสูงไม่เท่ากัน น่าจะวิเคราะห์ถึงสาเหตุว่าทำไม"
      ]
    },
    {
      "cell_type": "code",
      "metadata": {
        "id": "vEXWlA_dJ-dW",
        "colab_type": "code",
        "outputId": "7f787fbb-1750-4579-8670-96a8cb3872c2",
        "colab": {
          "base_uri": "https://localhost:8080/",
          "height": 34
        }
      },
      "source": [
        "!pip install --upgrade -q pygsheets"
      ],
      "execution_count": 0,
      "outputs": [
        {
          "output_type": "stream",
          "text": [
            "\u001b[?25l\r\u001b[K     |███▏                            | 10kB 24.2MB/s eta 0:00:01\r\u001b[K     |██████▎                         | 20kB 1.8MB/s eta 0:00:01\r\u001b[K     |█████████▌                      | 30kB 2.6MB/s eta 0:00:01\r\u001b[K     |████████████▋                   | 40kB 1.7MB/s eta 0:00:01\r\u001b[K     |███████████████▉                | 51kB 2.1MB/s eta 0:00:01\r\u001b[K     |███████████████████             | 61kB 2.5MB/s eta 0:00:01\r\u001b[K     |██████████████████████▏         | 71kB 2.9MB/s eta 0:00:01\r\u001b[K     |█████████████████████████▎      | 81kB 3.3MB/s eta 0:00:01\r\u001b[K     |████████████████████████████▌   | 92kB 3.7MB/s eta 0:00:01\r\u001b[K     |███████████████████████████████▋| 102kB 2.8MB/s eta 0:00:01\r\u001b[K     |████████████████████████████████| 112kB 2.8MB/s \n",
            "\u001b[?25h"
          ],
          "name": "stdout"
        }
      ]
    },
    {
      "cell_type": "markdown",
      "metadata": {
        "id": "kh4c3W9sKp-5",
        "colab_type": "text"
      },
      "source": [
        ""
      ]
    },
    {
      "cell_type": "code",
      "metadata": {
        "id": "903N8CKmL1OQ",
        "colab_type": "code",
        "colab": {}
      },
      "source": [
        "import google.auth\n",
        "from google.colab import auth\n",
        "auth.authenticate_user()\n",
        "import pygsheets\n",
        "import pandas as pd\n",
        "import numpy as np\n",
        "import seaborn as sns\n",
        "credentials, _ = google.auth.default()\n",
        "gc = pygsheets.client.Client(credentials)"
      ],
      "execution_count": 0,
      "outputs": []
    },
    {
      "cell_type": "code",
      "metadata": {
        "id": "fCppzTiy-ogi",
        "colab_type": "code",
        "colab": {}
      },
      "source": [
        "def plotcandle(datList,labelList):\n",
        "  fig, ax = py.subplots()\n",
        "  ax.figure.figsize=(32, 12)\n",
        "  for i in range(len(labelList)):\n",
        "    ax.boxplot(datList[i], positions=[i/10], widths=0.05)\n",
        "  posList = np.array(list(range(len(labelList))))/10\n",
        "  py.xticks(posList, labelList,rotation='vertical')\n",
        "  py.grid()\n",
        "  py.show()"
      ],
      "execution_count": 0,
      "outputs": []
    },
    {
      "cell_type": "code",
      "metadata": {
        "id": "wuRNjiGECccF",
        "colab_type": "code",
        "colab": {}
      },
      "source": [
        "def plotbar(datList,labelList,title):\n",
        "  posList = range(len(datList))\n",
        "  py.figure(figsize=(16, 6))\n",
        "  py.bar(posList,datList)\n",
        "  py.title(title)\n",
        "  py.xticks(posList, labelList,rotation='vertical')\n",
        "  py.grid()\n",
        "  py.show()"
      ],
      "execution_count": 0,
      "outputs": []
    },
    {
      "cell_type": "markdown",
      "metadata": {
        "id": "_QdXrcy1wTL4",
        "colab_type": "text"
      },
      "source": [
        "# Dataset from \n",
        "https://docs.google.com/spreadsheets/d/1jS24DjSPVWa4iuxuD4OAXrE3QeI8c9BC1hSlqr-NMiU/edit#gid=1187587451\n",
        "\n",
        "has detailed information such as summary, age, gender, symtoms for some cases and\n",
        "\n",
        "https://github.com/CSSEGISandData/COVID-19/blob/master/csse_covid_19_data/csse_covid_19_daily_reports/03-14-2020.csv\n",
        "\n",
        "which provides daily updated stats per country\n"
      ]
    },
    {
      "cell_type": "code",
      "metadata": {
        "id": "JFYGsLNf7Yvo",
        "colab_type": "code",
        "outputId": "86896325-f759-46d6-a0c4-012325e067f3",
        "colab": {
          "base_uri": "https://localhost:8080/",
          "height": 419
        }
      },
      "source": [
        "sheet = gc.open_by_url('https://docs.google.com/spreadsheets/d/1Ojyifha6IqBKb1SIvst-4pEyJbAXFUJee6iHmxS9B1I/edit?usp=sharing')\n",
        "dat = sheet.sheet1.get_as_df()\n",
        "dat = dat[['summary','country','death','symptom']]\n",
        "odat = dat.copy()\n",
        "odat['age'] = dat['summary'].str.extract(r'( \\d+,)')\n",
        "odat['age'] = odat['age'].str.extract(r'(\\d+)').astype('float')\n",
        "odat['gender'] = dat['summary'].str.extract(r'(male|female)')\n",
        "odat['death'] = odat['death'] == 1\n",
        "odat = odat.dropna()"
      ],
      "execution_count": 0,
      "outputs": [
        {
          "output_type": "execute_result",
          "data": {
            "text/html": [
              "<div>\n",
              "<style scoped>\n",
              "    .dataframe tbody tr th:only-of-type {\n",
              "        vertical-align: middle;\n",
              "    }\n",
              "\n",
              "    .dataframe tbody tr th {\n",
              "        vertical-align: top;\n",
              "    }\n",
              "\n",
              "    .dataframe thead th {\n",
              "        text-align: right;\n",
              "    }\n",
              "</style>\n",
              "<table border=\"1\" class=\"dataframe\">\n",
              "  <thead>\n",
              "    <tr style=\"text-align: right;\">\n",
              "      <th></th>\n",
              "      <th>summary</th>\n",
              "      <th>country</th>\n",
              "      <th>death</th>\n",
              "      <th>symptom</th>\n",
              "      <th>age</th>\n",
              "      <th>gender</th>\n",
              "    </tr>\n",
              "  </thead>\n",
              "  <tbody>\n",
              "    <tr>\n",
              "      <th>0</th>\n",
              "      <td>First confirmed imported COVID-19 pneumonia pa...</td>\n",
              "      <td>China</td>\n",
              "      <td>False</td>\n",
              "      <td></td>\n",
              "      <td>66.0</td>\n",
              "      <td>male</td>\n",
              "    </tr>\n",
              "    <tr>\n",
              "      <th>1</th>\n",
              "      <td>First confirmed imported COVID-19 pneumonia pa...</td>\n",
              "      <td>China</td>\n",
              "      <td>False</td>\n",
              "      <td></td>\n",
              "      <td>56.0</td>\n",
              "      <td>female</td>\n",
              "    </tr>\n",
              "    <tr>\n",
              "      <th>2</th>\n",
              "      <td>First confirmed imported cases in Zhejiang: pa...</td>\n",
              "      <td>China</td>\n",
              "      <td>False</td>\n",
              "      <td></td>\n",
              "      <td>46.0</td>\n",
              "      <td>male</td>\n",
              "    </tr>\n",
              "    <tr>\n",
              "      <th>3</th>\n",
              "      <td>new confirmed imported COVID-19 pneumonia in T...</td>\n",
              "      <td>China</td>\n",
              "      <td>False</td>\n",
              "      <td></td>\n",
              "      <td>60.0</td>\n",
              "      <td>female</td>\n",
              "    </tr>\n",
              "    <tr>\n",
              "      <th>4</th>\n",
              "      <td>new confirmed imported COVID-19 pneumonia in T...</td>\n",
              "      <td>China</td>\n",
              "      <td>False</td>\n",
              "      <td></td>\n",
              "      <td>58.0</td>\n",
              "      <td>male</td>\n",
              "    </tr>\n",
              "    <tr>\n",
              "      <th>...</th>\n",
              "      <td>...</td>\n",
              "      <td>...</td>\n",
              "      <td>...</td>\n",
              "      <td>...</td>\n",
              "      <td>...</td>\n",
              "      <td>...</td>\n",
              "    </tr>\n",
              "    <tr>\n",
              "      <th>3387</th>\n",
              "      <td>new COVID-19 patient confirmed in Switzerland:...</td>\n",
              "      <td>Switzerland</td>\n",
              "      <td>False</td>\n",
              "      <td></td>\n",
              "      <td>70.0</td>\n",
              "      <td>male</td>\n",
              "    </tr>\n",
              "    <tr>\n",
              "      <th>3392</th>\n",
              "      <td>new COVID-19 patient confirmed in Switzerland:...</td>\n",
              "      <td>Switzerland</td>\n",
              "      <td>False</td>\n",
              "      <td></td>\n",
              "      <td>26.0</td>\n",
              "      <td>male</td>\n",
              "    </tr>\n",
              "    <tr>\n",
              "      <th>3393</th>\n",
              "      <td>new COVID-19 patient confirmed in Switzerland:...</td>\n",
              "      <td>Switzerland</td>\n",
              "      <td>False</td>\n",
              "      <td></td>\n",
              "      <td>30.0</td>\n",
              "      <td>female</td>\n",
              "    </tr>\n",
              "    <tr>\n",
              "      <th>3394</th>\n",
              "      <td>new COVID-19 patient confirmed in Switzerland:...</td>\n",
              "      <td>Switzerland</td>\n",
              "      <td>False</td>\n",
              "      <td></td>\n",
              "      <td>49.0</td>\n",
              "      <td>male</td>\n",
              "    </tr>\n",
              "    <tr>\n",
              "      <th>3396</th>\n",
              "      <td>new COVID-19 patient confirmed in Switzerland:...</td>\n",
              "      <td>Switzerland</td>\n",
              "      <td>False</td>\n",
              "      <td></td>\n",
              "      <td>23.0</td>\n",
              "      <td>male</td>\n",
              "    </tr>\n",
              "  </tbody>\n",
              "</table>\n",
              "<p>721 rows × 6 columns</p>\n",
              "</div>"
            ],
            "text/plain": [
              "                                                summary  ...  gender\n",
              "0     First confirmed imported COVID-19 pneumonia pa...  ...    male\n",
              "1     First confirmed imported COVID-19 pneumonia pa...  ...  female\n",
              "2     First confirmed imported cases in Zhejiang: pa...  ...    male\n",
              "3     new confirmed imported COVID-19 pneumonia in T...  ...  female\n",
              "4     new confirmed imported COVID-19 pneumonia in T...  ...    male\n",
              "...                                                 ...  ...     ...\n",
              "3387  new COVID-19 patient confirmed in Switzerland:...  ...    male\n",
              "3392  new COVID-19 patient confirmed in Switzerland:...  ...    male\n",
              "3393  new COVID-19 patient confirmed in Switzerland:...  ...  female\n",
              "3394  new COVID-19 patient confirmed in Switzerland:...  ...    male\n",
              "3396  new COVID-19 patient confirmed in Switzerland:...  ...    male\n",
              "\n",
              "[721 rows x 6 columns]"
            ]
          },
          "metadata": {
            "tags": []
          },
          "execution_count": 451
        }
      ]
    },
    {
      "cell_type": "markdown",
      "metadata": {
        "id": "s-Ip_K8b3hGz",
        "colab_type": "text"
      },
      "source": [
        "Create age range data"
      ]
    },
    {
      "cell_type": "code",
      "metadata": {
        "id": "JHmYdiBy3bKD",
        "colab_type": "code",
        "outputId": "3165326f-37a0-4039-f453-1bf4881105d4",
        "colab": {
          "base_uri": "https://localhost:8080/",
          "height": 504
        }
      },
      "source": [
        "กฎodat['agegroup'] = 'agegroup'\n",
        "ageDic = {}\n",
        "ageDic['1-10'] = (1,10)\n",
        "ageDic['10-20'] = (10,20)\n",
        "ageDic['20-30'] = (20,30)\n",
        "ageDic['30-40'] = (30,40)\n",
        "ageDic['40-50'] = (40,50)\n",
        "ageDic['50-60'] = (50,60)\n",
        "ageDic['60-70'] = (60,70)\n",
        "ageDic['70+'] = (70,120)\n",
        "for k in ageDic.keys():\n",
        "  lb,ub = ageDic[k]\n",
        "  odat['agegroup'][(odat['age']>=lb) & (odat['age']<ub)] = k\n",
        "odat"
      ],
      "execution_count": 0,
      "outputs": [
        {
          "output_type": "stream",
          "text": [
            "/usr/local/lib/python3.6/dist-packages/ipykernel_launcher.py:13: SettingWithCopyWarning: \n",
            "A value is trying to be set on a copy of a slice from a DataFrame\n",
            "\n",
            "See the caveats in the documentation: http://pandas.pydata.org/pandas-docs/stable/user_guide/indexing.html#returning-a-view-versus-a-copy\n",
            "  del sys.path[0]\n"
          ],
          "name": "stderr"
        },
        {
          "output_type": "execute_result",
          "data": {
            "text/html": [
              "<div>\n",
              "<style scoped>\n",
              "    .dataframe tbody tr th:only-of-type {\n",
              "        vertical-align: middle;\n",
              "    }\n",
              "\n",
              "    .dataframe tbody tr th {\n",
              "        vertical-align: top;\n",
              "    }\n",
              "\n",
              "    .dataframe thead th {\n",
              "        text-align: right;\n",
              "    }\n",
              "</style>\n",
              "<table border=\"1\" class=\"dataframe\">\n",
              "  <thead>\n",
              "    <tr style=\"text-align: right;\">\n",
              "      <th></th>\n",
              "      <th>summary</th>\n",
              "      <th>country</th>\n",
              "      <th>death</th>\n",
              "      <th>symptom</th>\n",
              "      <th>age</th>\n",
              "      <th>gender</th>\n",
              "      <th>agegroup</th>\n",
              "    </tr>\n",
              "  </thead>\n",
              "  <tbody>\n",
              "    <tr>\n",
              "      <th>0</th>\n",
              "      <td>First confirmed imported COVID-19 pneumonia pa...</td>\n",
              "      <td>China</td>\n",
              "      <td>False</td>\n",
              "      <td></td>\n",
              "      <td>66.0</td>\n",
              "      <td>male</td>\n",
              "      <td>60-70</td>\n",
              "    </tr>\n",
              "    <tr>\n",
              "      <th>1</th>\n",
              "      <td>First confirmed imported COVID-19 pneumonia pa...</td>\n",
              "      <td>China</td>\n",
              "      <td>False</td>\n",
              "      <td></td>\n",
              "      <td>56.0</td>\n",
              "      <td>female</td>\n",
              "      <td>50-60</td>\n",
              "    </tr>\n",
              "    <tr>\n",
              "      <th>2</th>\n",
              "      <td>First confirmed imported cases in Zhejiang: pa...</td>\n",
              "      <td>China</td>\n",
              "      <td>False</td>\n",
              "      <td></td>\n",
              "      <td>46.0</td>\n",
              "      <td>male</td>\n",
              "      <td>40-50</td>\n",
              "    </tr>\n",
              "    <tr>\n",
              "      <th>3</th>\n",
              "      <td>new confirmed imported COVID-19 pneumonia in T...</td>\n",
              "      <td>China</td>\n",
              "      <td>False</td>\n",
              "      <td></td>\n",
              "      <td>60.0</td>\n",
              "      <td>female</td>\n",
              "      <td>60-70</td>\n",
              "    </tr>\n",
              "    <tr>\n",
              "      <th>4</th>\n",
              "      <td>new confirmed imported COVID-19 pneumonia in T...</td>\n",
              "      <td>China</td>\n",
              "      <td>False</td>\n",
              "      <td></td>\n",
              "      <td>58.0</td>\n",
              "      <td>male</td>\n",
              "      <td>50-60</td>\n",
              "    </tr>\n",
              "    <tr>\n",
              "      <th>...</th>\n",
              "      <td>...</td>\n",
              "      <td>...</td>\n",
              "      <td>...</td>\n",
              "      <td>...</td>\n",
              "      <td>...</td>\n",
              "      <td>...</td>\n",
              "      <td>...</td>\n",
              "    </tr>\n",
              "    <tr>\n",
              "      <th>3387</th>\n",
              "      <td>new COVID-19 patient confirmed in Switzerland:...</td>\n",
              "      <td>Switzerland</td>\n",
              "      <td>False</td>\n",
              "      <td></td>\n",
              "      <td>70.0</td>\n",
              "      <td>male</td>\n",
              "      <td>70+</td>\n",
              "    </tr>\n",
              "    <tr>\n",
              "      <th>3392</th>\n",
              "      <td>new COVID-19 patient confirmed in Switzerland:...</td>\n",
              "      <td>Switzerland</td>\n",
              "      <td>False</td>\n",
              "      <td></td>\n",
              "      <td>26.0</td>\n",
              "      <td>male</td>\n",
              "      <td>20-30</td>\n",
              "    </tr>\n",
              "    <tr>\n",
              "      <th>3393</th>\n",
              "      <td>new COVID-19 patient confirmed in Switzerland:...</td>\n",
              "      <td>Switzerland</td>\n",
              "      <td>False</td>\n",
              "      <td></td>\n",
              "      <td>30.0</td>\n",
              "      <td>female</td>\n",
              "      <td>30-40</td>\n",
              "    </tr>\n",
              "    <tr>\n",
              "      <th>3394</th>\n",
              "      <td>new COVID-19 patient confirmed in Switzerland:...</td>\n",
              "      <td>Switzerland</td>\n",
              "      <td>False</td>\n",
              "      <td></td>\n",
              "      <td>49.0</td>\n",
              "      <td>male</td>\n",
              "      <td>40-50</td>\n",
              "    </tr>\n",
              "    <tr>\n",
              "      <th>3396</th>\n",
              "      <td>new COVID-19 patient confirmed in Switzerland:...</td>\n",
              "      <td>Switzerland</td>\n",
              "      <td>False</td>\n",
              "      <td></td>\n",
              "      <td>23.0</td>\n",
              "      <td>male</td>\n",
              "      <td>20-30</td>\n",
              "    </tr>\n",
              "  </tbody>\n",
              "</table>\n",
              "<p>721 rows × 7 columns</p>\n",
              "</div>"
            ],
            "text/plain": [
              "                                                summary  ... agegroup\n",
              "0     First confirmed imported COVID-19 pneumonia pa...  ...    60-70\n",
              "1     First confirmed imported COVID-19 pneumonia pa...  ...    50-60\n",
              "2     First confirmed imported cases in Zhejiang: pa...  ...    40-50\n",
              "3     new confirmed imported COVID-19 pneumonia in T...  ...    60-70\n",
              "4     new confirmed imported COVID-19 pneumonia in T...  ...    50-60\n",
              "...                                                 ...  ...      ...\n",
              "3387  new COVID-19 patient confirmed in Switzerland:...  ...      70+\n",
              "3392  new COVID-19 patient confirmed in Switzerland:...  ...    20-30\n",
              "3393  new COVID-19 patient confirmed in Switzerland:...  ...    30-40\n",
              "3394  new COVID-19 patient confirmed in Switzerland:...  ...    40-50\n",
              "3396  new COVID-19 patient confirmed in Switzerland:...  ...    20-30\n",
              "\n",
              "[721 rows x 7 columns]"
            ]
          },
          "metadata": {
            "tags": []
          },
          "execution_count": 453
        }
      ]
    },
    {
      "cell_type": "markdown",
      "metadata": {
        "id": "9JLq9yW9xdhE",
        "colab_type": "text"
      },
      "source": [
        "# 1. Age analysis\n"
      ]
    },
    {
      "cell_type": "markdown",
      "metadata": {
        "id": "KcEjc1cEx-L6",
        "colab_type": "text"
      },
      "source": [
        "1.1 Does age information correlate with confirmed cases?\n"
      ]
    },
    {
      "cell_type": "code",
      "metadata": {
        "id": "ySwuZTI4yKcs",
        "colab_type": "code",
        "outputId": "df04239f-7a89-4fbf-b059-664dae0c8992",
        "colab": {
          "base_uri": "https://localhost:8080/",
          "height": 328
        }
      },
      "source": [
        "agestat = odat.groupby('agegroup').count()[['age']]\n",
        "agestat['ageratio'] = agestat['age']/sum(agestat['age'])*100\n",
        "agestat\n"
      ],
      "execution_count": 0,
      "outputs": [
        {
          "output_type": "execute_result",
          "data": {
            "text/html": [
              "<div>\n",
              "<style scoped>\n",
              "    .dataframe tbody tr th:only-of-type {\n",
              "        vertical-align: middle;\n",
              "    }\n",
              "\n",
              "    .dataframe tbody tr th {\n",
              "        vertical-align: top;\n",
              "    }\n",
              "\n",
              "    .dataframe thead th {\n",
              "        text-align: right;\n",
              "    }\n",
              "</style>\n",
              "<table border=\"1\" class=\"dataframe\">\n",
              "  <thead>\n",
              "    <tr style=\"text-align: right;\">\n",
              "      <th></th>\n",
              "      <th>age</th>\n",
              "      <th>ageratio</th>\n",
              "    </tr>\n",
              "    <tr>\n",
              "      <th>agegroup</th>\n",
              "      <th></th>\n",
              "      <th></th>\n",
              "    </tr>\n",
              "  </thead>\n",
              "  <tbody>\n",
              "    <tr>\n",
              "      <th>1-10</th>\n",
              "      <td>12</td>\n",
              "      <td>1.664355</td>\n",
              "    </tr>\n",
              "    <tr>\n",
              "      <th>10-20</th>\n",
              "      <td>26</td>\n",
              "      <td>3.606103</td>\n",
              "    </tr>\n",
              "    <tr>\n",
              "      <th>20-30</th>\n",
              "      <td>92</td>\n",
              "      <td>12.760055</td>\n",
              "    </tr>\n",
              "    <tr>\n",
              "      <th>30-40</th>\n",
              "      <td>127</td>\n",
              "      <td>17.614424</td>\n",
              "    </tr>\n",
              "    <tr>\n",
              "      <th>40-50</th>\n",
              "      <td>114</td>\n",
              "      <td>15.811373</td>\n",
              "    </tr>\n",
              "    <tr>\n",
              "      <th>50-60</th>\n",
              "      <td>148</td>\n",
              "      <td>20.527046</td>\n",
              "    </tr>\n",
              "    <tr>\n",
              "      <th>60-70</th>\n",
              "      <td>107</td>\n",
              "      <td>14.840499</td>\n",
              "    </tr>\n",
              "    <tr>\n",
              "      <th>70+</th>\n",
              "      <td>95</td>\n",
              "      <td>13.176144</td>\n",
              "    </tr>\n",
              "  </tbody>\n",
              "</table>\n",
              "</div>"
            ],
            "text/plain": [
              "          age   ageratio\n",
              "agegroup                \n",
              "1-10       12   1.664355\n",
              "10-20      26   3.606103\n",
              "20-30      92  12.760055\n",
              "30-40     127  17.614424\n",
              "40-50     114  15.811373\n",
              "50-60     148  20.527046\n",
              "60-70     107  14.840499\n",
              "70+        95  13.176144"
            ]
          },
          "metadata": {
            "tags": []
          },
          "execution_count": 472
        }
      ]
    },
    {
      "cell_type": "code",
      "metadata": {
        "id": "f_hMQX8h-Bhv",
        "colab_type": "code",
        "outputId": "f8f430f3-56df-4175-a8b0-6f18ff648442",
        "colab": {
          "base_uri": "https://localhost:8080/",
          "height": 409
        }
      },
      "source": [
        "plotbar(agestat['ageratio'].values,agestat.index.values,'age confirmed case (%)')"
      ],
      "execution_count": 0,
      "outputs": [
        {
          "output_type": "display_data",
          "data": {
            "image/png": "[encoded data removed]",
            "text/plain": [
              "<Figure size 1152x432 with 1 Axes>"
            ]
          },
          "metadata": {
            "tags": []
          }
        }
      ]
    },
    {
      "cell_type": "markdown",
      "metadata": {
        "id": "T_E64G_6C7Kh",
        "colab_type": "text"
      },
      "source": [
        "1.2 Are the confirmed age distributions similar accross different countries?"
      ]
    },
    {
      "cell_type": "code",
      "metadata": {
        "id": "PTecajY47cB4",
        "colab_type": "code",
        "colab": {}
      },
      "source": [
        "def getattributedata_bycountry(dat,attr):\n",
        "  dat = dat[dat['country']!='']\n",
        "  dat['age'] = dat[attr].astype('float')\n",
        "  medianage = dat.groupby(by='country').mean()\n",
        "  cList = list(medianage.sort_values(by='age').index)\n",
        "  cFrame = []\n",
        "  nclist = []\n",
        "  cdat = dat['age'].astype('float').dropna().values\n",
        "  cFrame.append(cdat)\n",
        "  nclist.append('all')\n",
        "  for c in cList:\n",
        "    cdat = dat[dat['country']==c]['age'].astype('float').dropna().values\n",
        "    if len(cdat)>5:\n",
        "      cFrame.append(cdat)\n",
        "      nclist.append(c)\n",
        "  return cFrame,nclist"
      ],
      "execution_count": 0,
      "outputs": []
    },
    {
      "cell_type": "code",
      "metadata": {
        "id": "e15KOYPdOEIJ",
        "colab_type": "code",
        "colab": {}
      },
      "source": [
        "cFrame,nclist = getattributedata(odat,'age')\n",
        "mList = []\n",
        "for c in cFrame:\n",
        "  mList.append([c.mean(),c.std()])\n",
        "agedat = pd.DataFrame(data=mList,columns=['mean','std'])\n",
        "agedat.index = nclist\n",
        "agedat = agedat.sort_values(by='mean')\n"
      ],
      "execution_count": 0,
      "outputs": []
    },
    {
      "cell_type": "code",
      "metadata": {
        "id": "F0YQ5p4NWkFY",
        "colab_type": "code",
        "outputId": "84fb2e70-809e-4276-8f68-5bc804576049",
        "colab": {
          "base_uri": "https://localhost:8080/",
          "height": 441
        }
      },
      "source": [
        "plotbar(agedat['mean'],agedat.index.values,'Mean confirmed age by country')"
      ],
      "execution_count": 0,
      "outputs": [
        {
          "output_type": "display_data",
          "data": {
            "image/png": "[encoded data removed]",
            "text/plain": [
              "<Figure size 1152x432 with 1 Axes>"
            ]
          },
          "metadata": {
            "tags": []
          }
        }
      ]
    },
    {
      "cell_type": "markdown",
      "metadata": {
        "id": "bm2SJbTVDKRh",
        "colab_type": "text"
      },
      "source": [
        "How does the age distributions look like in different countries?"
      ]
    },
    {
      "cell_type": "code",
      "metadata": {
        "id": "K0-nb1spCrt1",
        "colab_type": "code",
        "outputId": "5306ff4a-20c1-4bef-d274-1e74efba353f",
        "colab": {
          "base_uri": "https://localhost:8080/",
          "height": 316
        }
      },
      "source": [
        "plotcandle(cFrame,nclist)"
      ],
      "execution_count": 0,
      "outputs": [
        {
          "output_type": "display_data",
          "data": {
            "image/png": "[encoded data removed]",
            "text/plain": [
              "<Figure size 432x288 with 1 Axes>"
            ]
          },
          "metadata": {
            "tags": []
          }
        }
      ]
    },
    {
      "cell_type": "markdown",
      "metadata": {
        "id": "Yl_0orqzy3le",
        "colab_type": "text"
      },
      "source": [
        "1.3 Does age information correlate with death cases?\n"
      ]
    },
    {
      "cell_type": "code",
      "metadata": {
        "id": "ymwxogNRzzar",
        "colab_type": "code",
        "outputId": "d77b6418-650f-4d35-c4f2-bb4a4ee525ca",
        "colab": {
          "base_uri": "https://localhost:8080/",
          "height": 297
        }
      },
      "source": [
        "drDic = {}\n",
        "for k in ageDic.keys():\n",
        "  adat = odat[odat['agegroup']==k]\n",
        "  drDic[k] = (sum(adat['death']),len(adat['death']),sum(adat['death'])/len(adat['death'])*100)\n",
        "#drDic.values()\n",
        "drFrame = pd.DataFrame(data=drDic.values(),columns=['death-count','confirmed-count','death-ratio'])\n",
        "drFrame.index = drDic.keys()\n",
        "drFrame"
      ],
      "execution_count": 0,
      "outputs": [
        {
          "output_type": "execute_result",
          "data": {
            "text/html": [
              "<div>\n",
              "<style scoped>\n",
              "    .dataframe tbody tr th:only-of-type {\n",
              "        vertical-align: middle;\n",
              "    }\n",
              "\n",
              "    .dataframe tbody tr th {\n",
              "        vertical-align: top;\n",
              "    }\n",
              "\n",
              "    .dataframe thead th {\n",
              "        text-align: right;\n",
              "    }\n",
              "</style>\n",
              "<table border=\"1\" class=\"dataframe\">\n",
              "  <thead>\n",
              "    <tr style=\"text-align: right;\">\n",
              "      <th></th>\n",
              "      <th>death-count</th>\n",
              "      <th>confirmed-count</th>\n",
              "      <th>death-ratio</th>\n",
              "    </tr>\n",
              "  </thead>\n",
              "  <tbody>\n",
              "    <tr>\n",
              "      <th>1-10</th>\n",
              "      <td>0</td>\n",
              "      <td>12</td>\n",
              "      <td>0.000000</td>\n",
              "    </tr>\n",
              "    <tr>\n",
              "      <th>10-20</th>\n",
              "      <td>0</td>\n",
              "      <td>26</td>\n",
              "      <td>0.000000</td>\n",
              "    </tr>\n",
              "    <tr>\n",
              "      <th>20-30</th>\n",
              "      <td>0</td>\n",
              "      <td>92</td>\n",
              "      <td>0.000000</td>\n",
              "    </tr>\n",
              "    <tr>\n",
              "      <th>30-40</th>\n",
              "      <td>2</td>\n",
              "      <td>127</td>\n",
              "      <td>1.574803</td>\n",
              "    </tr>\n",
              "    <tr>\n",
              "      <th>40-50</th>\n",
              "      <td>1</td>\n",
              "      <td>114</td>\n",
              "      <td>0.877193</td>\n",
              "    </tr>\n",
              "    <tr>\n",
              "      <th>50-60</th>\n",
              "      <td>4</td>\n",
              "      <td>148</td>\n",
              "      <td>2.702703</td>\n",
              "    </tr>\n",
              "    <tr>\n",
              "      <th>60-70</th>\n",
              "      <td>12</td>\n",
              "      <td>107</td>\n",
              "      <td>11.214953</td>\n",
              "    </tr>\n",
              "    <tr>\n",
              "      <th>70+</th>\n",
              "      <td>22</td>\n",
              "      <td>95</td>\n",
              "      <td>23.157895</td>\n",
              "    </tr>\n",
              "  </tbody>\n",
              "</table>\n",
              "</div>"
            ],
            "text/plain": [
              "       death-count  confirmed-count  death-ratio\n",
              "1-10             0               12     0.000000\n",
              "10-20            0               26     0.000000\n",
              "20-30            0               92     0.000000\n",
              "30-40            2              127     1.574803\n",
              "40-50            1              114     0.877193\n",
              "50-60            4              148     2.702703\n",
              "60-70           12              107    11.214953\n",
              "70+             22               95    23.157895"
            ]
          },
          "metadata": {
            "tags": []
          },
          "execution_count": 520
        }
      ]
    },
    {
      "cell_type": "code",
      "metadata": {
        "id": "MJZjvZ8I_VI3",
        "colab_type": "code",
        "outputId": "2dcf87f6-7eae-496f-b4ce-f32d150232cc",
        "colab": {
          "base_uri": "https://localhost:8080/",
          "height": 409
        }
      },
      "source": [
        "plotbar(drFrame['death-ratio'],list(drFrame.index),'Death/Confirmed ratio (%)')"
      ],
      "execution_count": 0,
      "outputs": [
        {
          "output_type": "display_data",
          "data": {
            "image/png": "[encoded data removed]",
            "text/plain": [
              "<Figure size 1152x432 with 1 Axes>"
            ]
          },
          "metadata": {
            "tags": []
          }
        }
      ]
    },
    {
      "cell_type": "markdown",
      "metadata": {
        "id": "LH7lxJRfDxG3",
        "colab_type": "text"
      },
      "source": [
        "# 2. Gender analysis"
      ]
    },
    {
      "cell_type": "markdown",
      "metadata": {
        "id": "0fF8SogsD6pZ",
        "colab_type": "text"
      },
      "source": [
        "2.1 What is the ratio between male and female confirmed cases accross different countries?"
      ]
    },
    {
      "cell_type": "code",
      "metadata": {
        "id": "G9fNEgxnOMk4",
        "colab_type": "code",
        "outputId": "e42a88fe-2613-4a3a-b8eb-2d76c7318676",
        "colab": {
          "base_uri": "https://localhost:8080/",
          "height": 441
        }
      },
      "source": [
        "odat['male'] = (odat['gender']=='male').astype('int')\n",
        "mstat = odat[['country','male']].groupby('country').sum()/odat[['country','male']].groupby('country').count()\n",
        "mstat = mstat.sort_values(by='male')\n",
        "clist = np.array(mstat.index)\n",
        "mstatvalues = mstat.values[:,0]\n",
        "plotbar(mstatvalues,clist,'male ratio')"
      ],
      "execution_count": 0,
      "outputs": [
        {
          "output_type": "display_data",
          "data": {
            "image/png": "[encoded data removed]",
            "text/plain": [
              "<Figure size 1152x432 with 1 Axes>"
            ]
          },
          "metadata": {
            "tags": []
          }
        }
      ]
    },
    {
      "cell_type": "markdown",
      "metadata": {
        "id": "AYO1CyAsEG2t",
        "colab_type": "text"
      },
      "source": [
        "2.2 What is the death ratio between male and female?\n"
      ]
    },
    {
      "cell_type": "code",
      "metadata": {
        "id": "lTKe42WzEBe9",
        "colab_type": "code",
        "outputId": "4c9656da-f4a3-48dc-e5a0-d27bdc1e0859",
        "colab": {
          "base_uri": "https://localhost:8080/",
          "height": 85
        }
      },
      "source": [
        "gdat = odat[['death','gender']]\n",
        "gc = gdat.groupby(by='gender').count()\n",
        "gd = gdat.groupby(by='gender').sum()\n",
        "gender_dratio = gd['death']/gc['death']\n",
        "gender_dratio"
      ],
      "execution_count": 0,
      "outputs": [
        {
          "output_type": "execute_result",
          "data": {
            "text/plain": [
              "gender\n",
              "female    0.039088\n",
              "male      0.070048\n",
              "Name: death, dtype: float64"
            ]
          },
          "metadata": {
            "tags": []
          },
          "execution_count": 540
        }
      ]
    },
    {
      "cell_type": "code",
      "metadata": {
        "id": "RC6LhcXKGV6y",
        "colab_type": "code",
        "outputId": "5328a5e8-76b3-4a95-efb8-0f2a1a23a72a",
        "colab": {
          "base_uri": "https://localhost:8080/",
          "height": 415
        }
      },
      "source": [
        "plotbar(gender_dratio,gender_dratio.index,'Death ratio per Gender (%)')"
      ],
      "execution_count": 0,
      "outputs": [
        {
          "output_type": "display_data",
          "data": {
            "image/png": "[encoded data removed]",
            "text/plain": [
              "<Figure size 1152x432 with 1 Axes>"
            ]
          },
          "metadata": {
            "tags": []
          }
        }
      ]
    },
    {
      "cell_type": "markdown",
      "metadata": {
        "id": "buEfZyY6H-m8",
        "colab_type": "text"
      },
      "source": [
        "# 3. Country analysis"
      ]
    },
    {
      "cell_type": "markdown",
      "metadata": {
        "id": "mhYaEWZTILil",
        "colab_type": "text"
      },
      "source": [
        "3.1 Are there differences of death/confirmed ratio by country?"
      ]
    },
    {
      "cell_type": "code",
      "metadata": {
        "id": "jLBdJT72ojfz",
        "colab_type": "code",
        "colab": {}
      },
      "source": [
        "import requests\n",
        "url= 'https://github.com/CSSEGISandData/COVID-19/blob/master/csse_covid_19_data/csse_covid_19_daily_reports/03-14-2020.csv'\n",
        "s=requests.get(url)\n",
        "s = s.content\n",
        "dat = pd.read_html(s)[0]\n",
        "dat = dat[['Country/Region','Confirmed','Deaths','Recovered']]\n",
        "dat = dat.groupby(by = 'Country/Region').sum()\n",
        "dat['DeathRatio'] = dat['Deaths']/dat['Confirmed']*100\n",
        "dat = dat.sort_values(by='DeathRatio',ascending=False).iloc[0:50]"
      ],
      "execution_count": 0,
      "outputs": []
    },
    {
      "cell_type": "code",
      "metadata": {
        "id": "SiKOaurAq_nu",
        "colab_type": "code",
        "outputId": "5b548c2a-d623-42a2-a1dc-070994609013",
        "colab": {
          "base_uri": "https://localhost:8080/",
          "height": 460
        }
      },
      "source": [
        "plotbar(dat['DeathRatio'].values[3:50],dat.index.values[3:50],'Death/Confirmed ratio')"
      ],
      "execution_count": 0,
      "outputs": [
        {
          "output_type": "display_data",
          "data": {
            "image/png": "[encoded data removed]",
            "text/plain": [
              "<Figure size 1152x432 with 1 Axes>"
            ]
          },
          "metadata": {
            "tags": []
          }
        }
      ]
    },
    {
      "cell_type": "markdown",
      "metadata": {
        "id": "CDeDQUq0G00z",
        "colab_type": "text"
      },
      "source": [
        "# 4. Symptom"
      ]
    },
    {
      "cell_type": "markdown",
      "metadata": {
        "id": "SKzaS1WiG4eX",
        "colab_type": "text"
      },
      "source": [
        "4.1 What are the common symptoms?"
      ]
    },
    {
      "cell_type": "code",
      "metadata": {
        "id": "-jw9CePhXQV2",
        "colab_type": "code",
        "outputId": "3395b03c-f734-4da7-84a6-365c778338e4",
        "colab": {
          "base_uri": "https://localhost:8080/",
          "height": 482
        }
      },
      "source": [
        "symptomList = odat[odat['symptom'].str.len()>2]\n",
        "symptomList = symptomList['symptom'].values\n",
        "symDic = {}\n",
        "for s in symptomList:\n",
        "  sList = s.split(',')\n",
        "  for st in sList:\n",
        "    st = st.strip()\n",
        "    try:\n",
        "      symDic[st] = symDic[st] + 1\n",
        "    except:\n",
        "      symDic[st] = 1\n",
        "symFrame = pd.DataFrame()\n",
        "symFrame['symptom'] = symDic.keys()\n",
        "symFrame['count'] = symDic.values()\n",
        "symFrame = symFrame.sort_values(by='count',ascending=False)\n",
        "symFrame = symFrame.iloc[0:20]\n",
        "symFrame['ncount'] = (symFrame['count']/len(symptomList))*100\n",
        "plotbar(symFrame['ncount'],symFrame['symptom'],'Percentage of symptom confirmed cases (%)')"
      ],
      "execution_count": 0,
      "outputs": [
        {
          "output_type": "display_data",
          "data": {
            "image/png": "[encoded data removed]",
            "text/plain": [
              "<Figure size 1152x432 with 1 Axes>"
            ]
          },
          "metadata": {
            "tags": []
          }
        }
      ]
    },
    {
      "cell_type": "markdown",
      "metadata": {
        "id": "jgZzQftxJAh_",
        "colab_type": "text"
      },
      "source": [
        ""
      ]
    },
    {
      "cell_type": "markdown",
      "metadata": {
        "id": "T5bwzXBcIstb",
        "colab_type": "text"
      },
      "source": [
        "# 5. Is the data sufficient to do death prediction?"
      ]
    },
    {
      "cell_type": "code",
      "metadata": {
        "id": "PlDOdBUkgcCn",
        "colab_type": "code",
        "colab": {}
      },
      "source": [
        "from sklearn.model_selection import train_test_split\n",
        "ddat = ddat.dropna()\n",
        "X_train, X_test, y_train, y_test = train_test_split(ddat[['age','male']], ddat['death'].astype('float'), test_size=0.1, random_state=0)\n"
      ],
      "execution_count": 0,
      "outputs": []
    },
    {
      "cell_type": "code",
      "metadata": {
        "id": "rzwWO1nuh90L",
        "colab_type": "code",
        "outputId": "5077931b-4545-436d-e648-a3121b6a6655",
        "colab": {
          "base_uri": "https://localhost:8080/",
          "height": 265
        }
      },
      "source": [
        "from sklearn.ensemble import GradientBoostingClassifier\n",
        "from sklearn.metrics import precision_recall_curve\n",
        "clf = GradientBoostingClassifier()\n",
        "clf.fit(X_train,y_train)\n",
        "pdeath = clf.predict_proba(X_test)\n",
        "pdeath = pdeath[:,0]\n",
        "pdeath = pdeath + np.random.random(len(pdeath))\n",
        "pr,re, tr = precision_recall_curve(y_test, pdeath)\n",
        "py.plot(re,pr)\n",
        "py.show()"
      ],
      "execution_count": 0,
      "outputs": [
        {
          "output_type": "display_data",
          "data": {
            "image/png": "[encoded data removed]",
            "text/plain": [
              "<Figure size 432x288 with 1 Axes>"
            ]
          },
          "metadata": {
            "tags": []
          }
        }
      ]
    }
  ]
}